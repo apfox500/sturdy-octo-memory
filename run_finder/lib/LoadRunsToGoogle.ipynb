{
 "cells": [
  {
   "cell_type": "code",
   "execution_count": 86,
   "metadata": {},
   "outputs": [],
   "source": [
    "from selenium.webdriver.common.by import By\n",
    "from selenium import webdriver\n",
    "from selenium.webdriver.common.keys import Keys\n",
    "driver = webdriver.Safari()\n",
    "driver.get('https://www.mappedometer.com/forum/ucp.php?mode=login')\n",
    "#driver.maximize_window()\n",
    "assert \"Map Pedometer\" in driver.title\n"
   ]
  },
  {
   "cell_type": "code",
   "execution_count": null,
   "metadata": {},
   "outputs": [],
   "source": [
    "username = driver.find_element(By.ID, \"username\")\n",
    "username.clear()\n",
    "username.send_keys(\"grandview\")\n",
    "\n",
    "password = driver.find_element(By.NAME, \"password\")\n",
    "password.clear()\n",
    "password.send_keys(\"gvhsxc\")\n",
    "password.send_keys(Keys.RETURN)\n"
   ]
  },
  {
   "cell_type": "code",
   "execution_count": 92,
   "metadata": {},
   "outputs": [],
   "source": [
    "import time\n",
    "time.sleep(2)\n",
    "driver.maximize_window()\n",
    "myRoutes = driver.find_element(By.LINK_TEXT, \"My Routes\")\n",
    "myRoutes.send_keys(Keys.RETURN)\n"
   ]
  },
  {
   "cell_type": "code",
   "execution_count": 80,
   "metadata": {},
   "outputs": [
    {
     "name": "stdout",
     "output_type": "stream",
     "text": [
      "done collecting data - or a serious error has occured\n",
      "[['1', 'Campus warmup loop(warmup)', '899597', '1.10'], ['2', 'Campus(out and back route)(warmup)', '899596', '0.66'], ['3', 'Einsteins(out and back route)', '899595', '5.12'], ['4', 'OG Dougs(out and back route)', '899594', '5.64'], ['5', 'Waterton Canyon(out and back route)', '898493', '7.22'], ['6', 'RNK Running(out and back route)', '898492', '4.01'], ['7', 'Wedding Venue(out and back route)', '898457', '6.06'], ['8', 'Highline Canal(out and back route)', '898456', '6.15'], ['9', 'Arapahoe Trailhead(out and back route)', '898455', '5.93'], ['10', 'Ireland Hill(hill repeats)', '898454', '0.46'], ['11', 'Geddes Hill(hill repeats)', '898453', '0.27'], ['12', 'LRLRRLLRLLLLRLRLRRL', '898452', '4.00'], ['13', 'Short Purgatory', '898451', '7.99'], ['14', 'Purgatory', '898450', '9.53'], ['15', 'Wagon Wheel(out and back route)', '898449', '1.65'], ['16', 'Arapahoe/Foxfield(out and back route)', '898448', '5.01'], ['17', 'Leias', '898447', '6.50'], ['18', 'llamas Loop', '898446', '5.20'], ['19', 'Koi', '898445', '3.12'], ['20', 'Long Koi', '898436', '3.67'], ['21', 'To Geddes Hill(out and back route)(warmup)', '898435', '0.77'], ['22', 'Varsity Boys Llamas(out and back route)', '898433', '3.10'], ['23', 'Llamas(out and back route)', '898432', '3.72'], ['24', 'To Ireland Hill(out and back route)(warmup)', '898431', '0.41'], ['25', 'Creekside Loop', '898430', '7.48'], ['26', 'Creekside(out and back route)', '898429', '3.48'], ['27', 'To Liberty(out and back route)(warmup)', '898428', '1.56'], ['28', 'Short Liberty', '898427', '3.34'], ['29', 'Liberty', '898426', '4.37'], ['30', 'Long Liberty', '898425', '4.74'], ['31', \"Peter's Dumbass Version of Inspiration(out and back route)\", '898424', '6.64'], ['32', 'Inspiration(out and back route)', '898423', '5.87'], ['33', 'Geddes Loop?', '898422', '2.46'], ['34', 'Odessa Loop', '898421', '1.93'], ['35', 'To Odessa(out and back route)(warmup)', '898420', '1.04'], ['36', 'Tangled(warmup)', '898419', '2.79'], ['37', 'Easter Loop', '898418', '3.64'], ['38', 'Easter(out and back route)(warmup)', '898416', '1.00'], ['39', '', '898414', '5.50'], ['40', 'Paths(out and back route)', '898413', '3.96'], ['41', 'Long Southlands', '898412', '9.53'], ['42', 'Southlands', '898411', '8.04'], ['43', 'Short Southlands/Reverse Kilamanjaro', '898410', '6.81'], ['44', 'Rock', '898409', '5.43'], ['45', 'Castle', '898408', '3.81'], ['46', 'Chenango', '898407', '7.65'], ['47', 'Berry', '898406', '5.75'], ['48', 'Sonic', '898405', '6.89'], ['49', 'Long Falcon', '898404', '4.94'], ['51', 'Dog Park(Loop)', '898402', '4.56'], ['52', 'Dog Park(out and back route)', '898401', '4.91'], ['53', 'Normal Dougs(out and back route)', '898400', '9.83'], ['54', 'Pond', '898399', '4.64'], ['55', 'Killer Dog', '898398', '5.15'], ['56', '', '898397', '9.00'], ['57', 'Coopers Cleanup', '898395', '5.58']]\n"
     ]
    }
   ],
   "source": [
    "time.sleep(2)\n",
    "runData = []\n",
    "l=0\n",
    "\n",
    "while True:\n",
    "    try:\n",
    "        for i in range(1,10):\n",
    "            xpath = \"//*[@id='myGrid']/div[5]/div/div[\"+str(i+l)+\"]\"\n",
    "            #print(xpath)\n",
    "            currentRow = driver.find_element(By.XPATH, xpath)\n",
    "            rowData = currentRow.text\n",
    "            #print(rowData)\n",
    "            decimal = rowData.index(\".\")\n",
    "            if(rowData[1:2].isdigit()):\n",
    "                firstnum = [x.isdigit() for x in rowData].index(True, 2)\n",
    "                added = [rowData[0:2], rowData[2:firstnum], rowData[firstnum:firstnum+6], rowData[firstnum+6:decimal+3]]\n",
    "            else:\n",
    "                firstnum = [x.isdigit() for x in rowData].index(True, 1)\n",
    "                added = [rowData[0:1], rowData[1:firstnum], rowData[firstnum:firstnum+6], rowData[firstnum+6:decimal+3]]\n",
    "            if(added not in runData):\n",
    "                runData.append(added)\n",
    "        for i in range(1,10):\n",
    "            currentRow.send_keys(Keys.ARROW_DOWN)\n",
    "        l+=1\n",
    "    except:\n",
    "        print(\"done collecting data - or a serious error has occured\")\n",
    "        break\n",
    "print(runData)"
   ]
  },
  {
   "cell_type": "code",
   "execution_count": 81,
   "metadata": {},
   "outputs": [
    {
     "data": {
      "text/plain": [
       "{'spreadsheetId': '1M3RHXHqew6WZuiji17LUbOSj85W29EI8LNaPyI2R7EI',\n",
       " 'replies': [{}]}"
      ]
     },
     "execution_count": 81,
     "metadata": {},
     "output_type": "execute_result"
    }
   ],
   "source": [
    "import gspread\n",
    "\n",
    "gc = gspread.service_account(\"/Users/apfox500/development/service_account.json\")\n",
    "\n",
    "sh = gc.open(\"run database\")\n",
    "worksheet = sh.sheet1\n",
    "worksheet.update('A2:D150', runData)\n",
    "worksheet.sort((4, 'asc'), range= 'A2:D150')"
   ]
  },
  {
   "cell_type": "code",
   "execution_count": 56,
   "metadata": {},
   "outputs": [],
   "source": [
    "#driver.quit()"
   ]
  },
  {
   "cell_type": "code",
   "execution_count": 58,
   "metadata": {},
   "outputs": [
    {
     "ename": "SessionNotCreatedException",
     "evalue": "Message: Could not create a session: The Safari instance is already paired with another WebDriver session.\n",
     "output_type": "error",
     "traceback": [
      "\u001b[0;31m---------------------------------------------------------------------------\u001b[0m",
      "\u001b[0;31mSessionNotCreatedException\u001b[0m                Traceback (most recent call last)",
      "Input \u001b[0;32mIn [58]\u001b[0m, in \u001b[0;36m<module>\u001b[0;34m\u001b[0m\n\u001b[1;32m      1\u001b[0m \u001b[38;5;28;01mfor\u001b[39;00m run \u001b[38;5;129;01min\u001b[39;00m runData:\n\u001b[0;32m----> 2\u001b[0m     driver \u001b[38;5;241m=\u001b[39m \u001b[43mwebdriver\u001b[49m\u001b[38;5;241;43m.\u001b[39;49m\u001b[43mSafari\u001b[49m\u001b[43m(\u001b[49m\u001b[43m)\u001b[49m\n\u001b[1;32m      3\u001b[0m     driver\u001b[38;5;241m.\u001b[39mget(\u001b[38;5;124m'\u001b[39m\u001b[38;5;124mhttps://www.mappedometer.com/?maproute=\u001b[39m\u001b[38;5;124m'\u001b[39m\u001b[38;5;241m+\u001b[39mrun[\u001b[38;5;241m2\u001b[39m])\n\u001b[1;32m      4\u001b[0m     \u001b[38;5;66;03m#driver.maximize_window()\u001b[39;00m\n",
      "File \u001b[0;32m/usr/local/lib/python3.9/site-packages/selenium/webdriver/safari/webdriver.py:93\u001b[0m, in \u001b[0;36mWebDriver.__init__\u001b[0;34m(self, port, executable_path, reuse_service, desired_capabilities, quiet, keep_alive, service_args, options, service)\u001b[0m\n\u001b[1;32m     88\u001b[0m     \u001b[38;5;28mself\u001b[39m\u001b[38;5;241m.\u001b[39mservice\u001b[38;5;241m.\u001b[39mstart()\n\u001b[1;32m     90\u001b[0m executor \u001b[38;5;241m=\u001b[39m SafariRemoteConnection(remote_server_addr\u001b[38;5;241m=\u001b[39m\u001b[38;5;28mself\u001b[39m\u001b[38;5;241m.\u001b[39mservice\u001b[38;5;241m.\u001b[39mservice_url,\n\u001b[1;32m     91\u001b[0m                                   keep_alive\u001b[38;5;241m=\u001b[39mkeep_alive)\n\u001b[0;32m---> 93\u001b[0m \u001b[43mRemoteWebDriver\u001b[49m\u001b[38;5;241;43m.\u001b[39;49m\u001b[38;5;21;43m__init__\u001b[39;49m\u001b[43m(\u001b[49m\n\u001b[1;32m     94\u001b[0m \u001b[43m    \u001b[49m\u001b[38;5;28;43mself\u001b[39;49m\u001b[43m,\u001b[49m\n\u001b[1;32m     95\u001b[0m \u001b[43m    \u001b[49m\u001b[43mcommand_executor\u001b[49m\u001b[38;5;241;43m=\u001b[39;49m\u001b[43mexecutor\u001b[49m\u001b[43m,\u001b[49m\n\u001b[1;32m     96\u001b[0m \u001b[43m    \u001b[49m\u001b[43mdesired_capabilities\u001b[49m\u001b[38;5;241;43m=\u001b[39;49m\u001b[43mdesired_capabilities\u001b[49m\u001b[43m)\u001b[49m\n\u001b[1;32m     98\u001b[0m \u001b[38;5;28mself\u001b[39m\u001b[38;5;241m.\u001b[39m_is_remote \u001b[38;5;241m=\u001b[39m \u001b[38;5;28;01mFalse\u001b[39;00m\n",
      "File \u001b[0;32m/usr/local/lib/python3.9/site-packages/selenium/webdriver/remote/webdriver.py:268\u001b[0m, in \u001b[0;36mWebDriver.__init__\u001b[0;34m(self, command_executor, desired_capabilities, browser_profile, proxy, keep_alive, file_detector, options)\u001b[0m\n\u001b[1;32m    266\u001b[0m \u001b[38;5;28mself\u001b[39m\u001b[38;5;241m.\u001b[39mfile_detector \u001b[38;5;241m=\u001b[39m file_detector \u001b[38;5;129;01mor\u001b[39;00m LocalFileDetector()\n\u001b[1;32m    267\u001b[0m \u001b[38;5;28mself\u001b[39m\u001b[38;5;241m.\u001b[39mstart_client()\n\u001b[0;32m--> 268\u001b[0m \u001b[38;5;28;43mself\u001b[39;49m\u001b[38;5;241;43m.\u001b[39;49m\u001b[43mstart_session\u001b[49m\u001b[43m(\u001b[49m\u001b[43mcapabilities\u001b[49m\u001b[43m,\u001b[49m\u001b[43m \u001b[49m\u001b[43mbrowser_profile\u001b[49m\u001b[43m)\u001b[49m\n",
      "File \u001b[0;32m/usr/local/lib/python3.9/site-packages/selenium/webdriver/remote/webdriver.py:359\u001b[0m, in \u001b[0;36mWebDriver.start_session\u001b[0;34m(self, capabilities, browser_profile)\u001b[0m\n\u001b[1;32m    356\u001b[0m w3c_caps \u001b[38;5;241m=\u001b[39m _make_w3c_caps(capabilities)\n\u001b[1;32m    357\u001b[0m parameters \u001b[38;5;241m=\u001b[39m {\u001b[38;5;124m\"\u001b[39m\u001b[38;5;124mcapabilities\u001b[39m\u001b[38;5;124m\"\u001b[39m: w3c_caps,\n\u001b[1;32m    358\u001b[0m               \u001b[38;5;124m\"\u001b[39m\u001b[38;5;124mdesiredCapabilities\u001b[39m\u001b[38;5;124m\"\u001b[39m: capabilities}\n\u001b[0;32m--> 359\u001b[0m response \u001b[38;5;241m=\u001b[39m \u001b[38;5;28;43mself\u001b[39;49m\u001b[38;5;241;43m.\u001b[39;49m\u001b[43mexecute\u001b[49m\u001b[43m(\u001b[49m\u001b[43mCommand\u001b[49m\u001b[38;5;241;43m.\u001b[39;49m\u001b[43mNEW_SESSION\u001b[49m\u001b[43m,\u001b[49m\u001b[43m \u001b[49m\u001b[43mparameters\u001b[49m\u001b[43m)\u001b[49m\n\u001b[1;32m    360\u001b[0m \u001b[38;5;28;01mif\u001b[39;00m \u001b[38;5;124m'\u001b[39m\u001b[38;5;124msessionId\u001b[39m\u001b[38;5;124m'\u001b[39m \u001b[38;5;129;01mnot\u001b[39;00m \u001b[38;5;129;01min\u001b[39;00m response:\n\u001b[1;32m    361\u001b[0m     response \u001b[38;5;241m=\u001b[39m response[\u001b[38;5;124m'\u001b[39m\u001b[38;5;124mvalue\u001b[39m\u001b[38;5;124m'\u001b[39m]\n",
      "File \u001b[0;32m/usr/local/lib/python3.9/site-packages/selenium/webdriver/remote/webdriver.py:424\u001b[0m, in \u001b[0;36mWebDriver.execute\u001b[0;34m(self, driver_command, params)\u001b[0m\n\u001b[1;32m    422\u001b[0m response \u001b[38;5;241m=\u001b[39m \u001b[38;5;28mself\u001b[39m\u001b[38;5;241m.\u001b[39mcommand_executor\u001b[38;5;241m.\u001b[39mexecute(driver_command, params)\n\u001b[1;32m    423\u001b[0m \u001b[38;5;28;01mif\u001b[39;00m response:\n\u001b[0;32m--> 424\u001b[0m     \u001b[38;5;28;43mself\u001b[39;49m\u001b[38;5;241;43m.\u001b[39;49m\u001b[43merror_handler\u001b[49m\u001b[38;5;241;43m.\u001b[39;49m\u001b[43mcheck_response\u001b[49m\u001b[43m(\u001b[49m\u001b[43mresponse\u001b[49m\u001b[43m)\u001b[49m\n\u001b[1;32m    425\u001b[0m     response[\u001b[38;5;124m'\u001b[39m\u001b[38;5;124mvalue\u001b[39m\u001b[38;5;124m'\u001b[39m] \u001b[38;5;241m=\u001b[39m \u001b[38;5;28mself\u001b[39m\u001b[38;5;241m.\u001b[39m_unwrap_value(\n\u001b[1;32m    426\u001b[0m         response\u001b[38;5;241m.\u001b[39mget(\u001b[38;5;124m'\u001b[39m\u001b[38;5;124mvalue\u001b[39m\u001b[38;5;124m'\u001b[39m, \u001b[38;5;28;01mNone\u001b[39;00m))\n\u001b[1;32m    427\u001b[0m     \u001b[38;5;28;01mreturn\u001b[39;00m response\n",
      "File \u001b[0;32m/usr/local/lib/python3.9/site-packages/selenium/webdriver/remote/errorhandler.py:247\u001b[0m, in \u001b[0;36mErrorHandler.check_response\u001b[0;34m(self, response)\u001b[0m\n\u001b[1;32m    245\u001b[0m         alert_text \u001b[38;5;241m=\u001b[39m value[\u001b[38;5;124m'\u001b[39m\u001b[38;5;124malert\u001b[39m\u001b[38;5;124m'\u001b[39m]\u001b[38;5;241m.\u001b[39mget(\u001b[38;5;124m'\u001b[39m\u001b[38;5;124mtext\u001b[39m\u001b[38;5;124m'\u001b[39m)\n\u001b[1;32m    246\u001b[0m     \u001b[38;5;28;01mraise\u001b[39;00m exception_class(message, screen, stacktrace, alert_text)  \u001b[38;5;66;03m# type: ignore[call-arg]  # mypy is not smart enough here\u001b[39;00m\n\u001b[0;32m--> 247\u001b[0m \u001b[38;5;28;01mraise\u001b[39;00m exception_class(message, screen, stacktrace)\n",
      "\u001b[0;31mSessionNotCreatedException\u001b[0m: Message: Could not create a session: The Safari instance is already paired with another WebDriver session.\n"
     ]
    }
   ],
   "source": [
    "for run in runData:\n",
    "    driver = webdriver.Safari()\n",
    "    driver.get('https://www.mappedometer.com/?maproute='+run[2])\n",
    "    #driver.maximize_window()\n",
    "    assert \"Map Pedometer\" in driver.title\n",
    "\n",
    "    elevLink = driver.find_element(By.LINK_TEXT, \"Elevation Graph\")\n",
    "    elevLink.send_keys(Keys.ENTER)\n"
   ]
  }
 ],
 "metadata": {
  "interpreter": {
   "hash": "31f2aee4e71d21fbe5cf8b01ff0e069b9275f58929596ceb00d14d90e3e16cd6"
  },
  "kernelspec": {
   "display_name": "Python 3.8.9 64-bit",
   "language": "python",
   "name": "python3"
  },
  "language_info": {
   "codemirror_mode": {
    "name": "ipython",
    "version": 3
   },
   "file_extension": ".py",
   "mimetype": "text/x-python",
   "name": "python",
   "nbconvert_exporter": "python",
   "pygments_lexer": "ipython3",
   "version": "3.9.9"
  },
  "orig_nbformat": 4
 },
 "nbformat": 4,
 "nbformat_minor": 2
}
