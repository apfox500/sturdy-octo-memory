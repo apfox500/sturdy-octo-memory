{
 "cells": [
  {
   "cell_type": "code",
   "execution_count": 1,
   "metadata": {},
   "outputs": [],
   "source": [
    "from selenium.webdriver.common.by import By\n",
    "from selenium import webdriver\n",
    "from selenium.webdriver.common.keys import Keys\n",
    "driver = webdriver.Safari()\n",
    "driver.get('https://www.mappedometer.com/forum/ucp.php?mode=login')\n",
    "#driver.maximize_window()\n",
    "assert \"Map Pedometer\" in driver.title\n"
   ]
  },
  {
   "cell_type": "code",
   "execution_count": 2,
   "metadata": {},
   "outputs": [],
   "source": [
    "username = driver.find_element(By.ID, \"username\")\n",
    "username.clear()\n",
    "username.send_keys(\"grandview\")\n",
    "\n",
    "password = driver.find_element(By.NAME, \"password\")\n",
    "password.clear()\n",
    "password.send_keys(\"gvhsxc\")\n",
    "password.send_keys(Keys.RETURN)\n"
   ]
  },
  {
   "cell_type": "code",
   "execution_count": 3,
   "metadata": {},
   "outputs": [],
   "source": [
    "import time\n",
    "time.sleep(2)\n",
    "driver.maximize_window()\n",
    "myRoutes = driver.find_element(By.LINK_TEXT, \"My Routes\")\n",
    "myRoutes.send_keys(Keys.RETURN)\n"
   ]
  },
  {
   "cell_type": "code",
   "execution_count": 4,
   "metadata": {},
   "outputs": [
    {
     "name": "stdout",
     "output_type": "stream",
     "text": [
      "done collecting data - or a serious error has occured\n",
      "[['1', 'Ironside(out and back route)(warmup)', '900323', '1.03'], ['2', \"Gavin and Andy's Fun Run(out and back route)(warmup)\", '900321', '1.06'], ['3', 'Campus warmup loop(warmup)', '899597', '1.10'], ['4', 'Campus(out and back route)(warmup)', '899596', '0.66'], ['5', 'Einsteins(out and back route)', '899595', '5.12'], ['6', 'OG Dougs(out and back route)', '899594', '5.64'], ['7', 'Waterton Canyon(out and back route)', '898493', '7.22'], ['8', 'RNK Running(out and back route)', '898492', '4.01'], ['9', 'Wedding Venue(out and back route)', '898457', '6.06'], ['10', 'Highline Canal(out and back route)', '898456', '6.15'], ['11', 'Arapahoe Trailhead(out and back route)', '898455', '5.93'], ['12', 'Ireland Hill(hill repeats)', '898454', '0.46'], ['13', 'Geddes Hill(hill repeats)', '898453', '0.27'], ['14', 'LRLRRLLRLLLLRLRLRRL', '898452', '4.00'], ['15', 'Short Purgatory', '898451', '7.99'], ['16', 'Purgatory', '898450', '9.53'], ['17', 'Wagon Wheel(out and back route)', '898449', '1.65'], ['18', 'Arapahoe/Foxfield(out and back route)', '898448', '5.01'], ['19', 'Leias(out and back route)', '898447', '6.50'], ['20', 'llamas Loop', '898446', '5.20'], ['21', 'Koi', '898445', '3.12'], ['22', 'Long Koi', '898436', '3.67'], ['23', 'To Geddes Hill(out and back route)(warmup)', '898435', '0.77'], ['24', 'Varsity Boys Llamas(out and back route)', '898433', '3.10'], ['25', 'Llamas(out and back route)', '898432', '3.72'], ['26', 'To Ireland Hill(out and back route)(warmup)', '898431', '0.41'], ['27', 'Creekside Loop', '898430', '7.48'], ['28', 'Creekside(out and back route)', '898429', '3.48'], ['29', 'To Liberty(out and back route)(warmup)', '898428', '1.56'], ['30', 'Short Liberty', '898427', '3.34'], ['31', 'Liberty', '898426', '4.37'], ['32', 'Long Liberty', '898425', '4.74'], ['33', \"Peter's Dumbass Version of Inspiration(out and back route)\", '898424', '6.64'], ['34', 'Inspiration(out and back route)', '898423', '5.87'], ['35', 'Geddes Loop?', '898422', '2.46'], ['36', 'Odessa Loop', '898421', '1.93'], ['37', 'To Odessa(out and back route)(warmup)', '898420', '1.04'], ['38', 'Tangled(warmup)', '898419', '2.79'], ['39', 'Easter Loop', '898418', '3.64'], ['40', 'Easter(out and back route)(warmup)', '898416', '1.00'], ['41', 'Kilimanjaro', '898414', '5.50'], ['42', 'Paths(out and back route)', '898413', '3.96'], ['43', 'Long Southlands', '898412', '9.53'], ['44', 'Southlands', '898411', '8.04'], ['45', 'Short Southlands/Reverse Kilamanjaro', '898410', '6.81'], ['46', 'Rock', '898409', '5.43'], ['47', 'Castle', '898408', '3.81'], ['48', 'Chenango', '898407', '7.65'], ['49', 'Berry', '898406', '5.75'], ['51', 'Long Falcon', '898404', '4.94'], ['52', 'Short Falcon', '898403', '3.39'], ['53', 'Dog Park(Loop)', '898402', '4.56'], ['54', 'Dog Park(out and back route)', '898401', '4.91'], ['55', 'Normal Dougs(out and back route)', '898400', '9.83'], ['56', 'Pond', '898399', '4.64'], ['57', 'Killer Dog', '898398', '5.15'], ['58', '', '898397', '9.00']]\n"
     ]
    }
   ],
   "source": [
    "time.sleep(2)\n",
    "runData = []\n",
    "l=0\n",
    "\n",
    "while True:\n",
    "    try:\n",
    "        for i in range(1,10):\n",
    "            xpath = \"//*[@id='myGrid']/div[5]/div/div[\"+str(i+l)+\"]\"\n",
    "            #print(xpath)\n",
    "            currentRow = driver.find_element(By.XPATH, xpath)\n",
    "            rowData = currentRow.text\n",
    "            #print(rowData)\n",
    "            decimal = rowData.index(\".\")\n",
    "            if(rowData[1:2].isdigit()):\n",
    "                firstnum = [x.isdigit() for x in rowData].index(True, 2)\n",
    "                added = [rowData[0:2], rowData[2:firstnum], rowData[firstnum:firstnum+6], rowData[firstnum+6:decimal+3]]\n",
    "            else:\n",
    "                firstnum = [x.isdigit() for x in rowData].index(True, 1)\n",
    "                added = [rowData[0:1], rowData[1:firstnum], rowData[firstnum:firstnum+6], rowData[firstnum+6:decimal+3]]\n",
    "            if(added not in runData):\n",
    "                runData.append(added)\n",
    "        for i in range(1,10):\n",
    "            currentRow.send_keys(Keys.ARROW_DOWN)\n",
    "        l+=1\n",
    "    except:\n",
    "        print(\"done collecting data - or a serious error has occured\")\n",
    "        break\n",
    "print(runData)"
   ]
  },
  {
   "cell_type": "code",
   "execution_count": 5,
   "metadata": {},
   "outputs": [
    {
     "data": {
      "text/plain": [
       "{'spreadsheetId': '1M3RHXHqew6WZuiji17LUbOSj85W29EI8LNaPyI2R7EI',\n",
       " 'replies': [{}]}"
      ]
     },
     "execution_count": 5,
     "metadata": {},
     "output_type": "execute_result"
    }
   ],
   "source": [
    "import gspread\n",
    "\n",
    "gc = gspread.service_account(\"/Users/apfox500/development/service_account.json\")\n",
    "\n",
    "sh = gc.open(\"run database\")\n",
    "worksheet = sh.sheet1\n",
    "worksheet.update('A2:D150', runData)\n",
    "worksheet.sort((4, 'asc'), range= 'A2:D150')"
   ]
  },
  {
   "cell_type": "code",
   "execution_count": 6,
   "metadata": {},
   "outputs": [],
   "source": [
    "#driver.quit()"
   ]
  }
 ],
 "metadata": {
  "interpreter": {
   "hash": "31f2aee4e71d21fbe5cf8b01ff0e069b9275f58929596ceb00d14d90e3e16cd6"
  },
  "kernelspec": {
   "display_name": "Python 3.8.9 64-bit",
   "language": "python",
   "name": "python3"
  },
  "language_info": {
   "codemirror_mode": {
    "name": "ipython",
    "version": 3
   },
   "file_extension": ".py",
   "mimetype": "text/x-python",
   "name": "python",
   "nbconvert_exporter": "python",
   "pygments_lexer": "ipython3",
   "version": "3.9.9"
  },
  "orig_nbformat": 4
 },
 "nbformat": 4,
 "nbformat_minor": 2
}
